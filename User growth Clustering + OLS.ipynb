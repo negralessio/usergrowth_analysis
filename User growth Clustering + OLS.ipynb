{
 "cells": [
  {
   "cell_type": "code",
   "execution_count": null,
   "metadata": {},
   "outputs": [],
   "source": [
    "import numpy as np\n",
    "import matplotlib.pyplot as plt\n",
    "import pandas as pd\n",
    "from sklearn import linear_model\n",
    "from sklearn.metrics import r2_score, silhouette_score\n",
    "import seaborn as sns\n",
    "from sklearn.cluster import AgglomerativeClustering\n",
    "from scipy.cluster.hierarchy import dendrogram, linkage\n",
    "\n",
    "# Set seaborn theme\n",
    "sns.set()"
   ]
  },
  {
   "cell_type": "code",
   "execution_count": null,
   "metadata": {},
   "outputs": [],
   "source": [
    "# Enter your file path to the local csv file\n",
    "let file_path = \"your_local_path_to_the_csv_file\"\n",
    "\n",
    "# Read Data (Input: CSV File with 2 Columns seperated by ','; Output: Nx2 DataFrame)\n",
    "data = pd.read_csv(filepath_or_buffer = file_path, sep = \",\", index_col=False, header=0)\n",
    "\n",
    "# Only if different export setting in azure:\n",
    "# data.drop(\"time\", axis=1, inplace = True)"
   ]
  },
  {
   "cell_type": "code",
   "execution_count": null,
   "metadata": {},
   "outputs": [],
   "source": [
    "# Descriptive Statistic before Outlier Removal (Comparison see below)\n",
    "data_stats1 = data.describe()"
   ]
  },
  {
   "cell_type": "code",
   "execution_count": null,
   "metadata": {},
   "outputs": [],
   "source": [
    "# Create numpy Array, take date as indexes\n",
    "X_uncleaned = np.arange(0, data.shape[0], 1).reshape(-1, 1)\n",
    "Y_uncleaned = data.iloc[:, 1].values.reshape(-1, 1)"
   ]
  },
  {
   "cell_type": "code",
   "execution_count": null,
   "metadata": {},
   "outputs": [],
   "source": [
    "# Hierarchical Clustering + Plot\n",
    "cluster = AgglomerativeClustering(n_clusters=2, linkage=\"average\")\n",
    "cluster.fit(Y_uncleaned)\n",
    "plt.scatter(X_uncleaned, Y_uncleaned, c=cluster.labels_, cmap=\"rainbow\")\n",
    "plt.title(\"Hierarchical Clustering\")\n",
    "plt.xlabel(\"Day\")\n",
    "plt.ylabel(\"# External User\")\n",
    "plt.savefig(\"clustering.png\", dpi=200)\n",
    "plt.show()\n",
    "\n",
    "# Plot Dendrogram\n",
    "fig, axs = plt.subplots(figsize=(17, 4))\n",
    "# Merge X and Y and reshape to Nx2 Matrix\n",
    "#data_vector = np.array((X_uncleaned, Y_uncleaned)).T.reshape((-1,2))\n",
    "link = linkage(Y_uncleaned, method=\"average\")\n",
    "dendrogram(link, orientation=\"top\") # Change Orientation to \"right\" for horizontal plotting\n",
    "plt.title(\"Dendrogram with Linkage type 'average'\")\n",
    "fig.savefig(\"dendrogram.png\", dpi=200)\n",
    "#print(\"Type(date_vector) = {}; \\t Shape(data_vector) = {};\".format(type(data_vector), data_vector.shape))"
   ]
  },
  {
   "cell_type": "code",
   "execution_count": null,
   "metadata": {},
   "outputs": [],
   "source": [
    "# Append Dataframe with new Column called \"Outlier\" which entries are the cluster label\n",
    "data['Outlier'] = pd.Series(cluster.labels_, index=data.index)\n",
    "print(data)"
   ]
  },
  {
   "cell_type": "code",
   "execution_count": null,
   "metadata": {},
   "outputs": [],
   "source": [
    "# Remove Outlier\n",
    "data = data[data.Outlier != 1]\n",
    "# \"Refresh\" Index\n",
    "data = data.reset_index(drop=True)"
   ]
  },
  {
   "cell_type": "code",
   "execution_count": null,
   "metadata": {},
   "outputs": [],
   "source": [
    "# Create numpy Array, take date as indexes\n",
    "X = np.arange(0, data.shape[0], 1).reshape(-1, 1)\n",
    "Y = data.iloc[:, 1].values.reshape(-1, 1)"
   ]
  },
  {
   "cell_type": "code",
   "execution_count": null,
   "metadata": {},
   "outputs": [],
   "source": [
    "# Create Model and fit data\n",
    "model = linear_model.LinearRegression()\n",
    "model.fit(X, Y)\n",
    "Y_pred = model.predict(X)"
   ]
  },
  {
   "cell_type": "code",
   "execution_count": null,
   "metadata": {},
   "outputs": [],
   "source": [
    "# Plot Settings\n",
    "plt.scatter(X, Y)\n",
    "plt.plot(Y_pred, color = \"red\")\n",
    "plt.xlabel(\"Day\")\n",
    "plt.ylabel(\"# External User\")\n",
    "plt.title(\"External User Growth per Days without Outlier (n = {})\".format(X.size))\n",
    "plt.savefig(\"regression.png\", dpi=200)\n",
    "plt.show()\n",
    "\n",
    "# Scores\n",
    "r2score = r2_score(Y, Y_pred)\n",
    "print(\"R2 Score: %.2f\" %r2score)\n",
    "print(\"Slope: %.2f\" %model.coef_)\n",
    "print(\"Interzept: %.4f\" %model.intercept_)\n",
    "\n",
    "# General Info\n",
    "slope = model.coef_.astype(int)[0][0]\n",
    "predict_User = slope * X.size+1 + model.intercept_\n",
    "print(\"Average Daily User growth: {}\".format(slope)) \n",
    "print(\"Predicted next Day User Count: {} = {} * {} + {}\".format(int(predict_User), slope, X.size+1, model.intercept_[0].astype(int)))"
   ]
  },
  {
   "cell_type": "code",
   "execution_count": null,
   "metadata": {},
   "outputs": [],
   "source": [
    "# Descriptive Statistics after Outlier Removal\n",
    "data_stats2 = data.describe()\n",
    "diff_stats =  data_stats2.subtract(data_stats1)\n",
    "stats = pd.concat([data_stats1, data_stats2, diff_stats], axis=1)                           # Create new df with concatination\n",
    "stats.drop(\"Outlier\", axis=1, inplace = True)                                               # Drop Outlier Column\n",
    "stats.columns = [\"Stats with Outlier\", \"Stats after Outlier Removal\", \"Difference\"]         # Rename Columns\n",
    "print(stats)"
   ]
  },
  {
   "cell_type": "code",
   "execution_count": null,
   "metadata": {},
   "outputs": [],
   "source": [
    "# Plot Boxplot of Y_uncleaned and Y (without Outlier, with Outlier)\n",
    "fig, axs = plt.subplots(figsize=(7, 7))\n",
    "axs = sns.boxplot(data = [Y_uncleaned, Y], orient=\"v\", width=0.5, linewidth=2.5)\n",
    "fig.savefig(\"boxplot.png\", dpi=200)"
   ]
  },
  {
   "cell_type": "code",
   "execution_count": null,
   "metadata": {
    "scrolled": true
   },
   "outputs": [],
   "source": []
  }
 ],
 "metadata": {
  "kernelspec": {
   "display_name": "Python 3",
   "language": "python",
   "name": "python3"
  },
  "language_info": {
   "codemirror_mode": {
    "name": "ipython",
    "version": 3
   },
   "file_extension": ".py",
   "mimetype": "text/x-python",
   "name": "python",
   "nbconvert_exporter": "python",
   "pygments_lexer": "ipython3",
   "version": "3.8.5"
  }
 },
 "nbformat": 4,
 "nbformat_minor": 4
}
